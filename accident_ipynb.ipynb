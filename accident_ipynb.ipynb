{
  "nbformat": 4,
  "nbformat_minor": 0,
  "metadata": {
    "colab": {
      "provenance": [],
      "mount_file_id": "1tcCgzNvQhGdxejnze-Z6QGMo6bMg1Vzl",
      "authorship_tag": "ABX9TyNvsvKnIWylyPWn7k0VMuEW",
      "include_colab_link": true
    },
    "kernelspec": {
      "name": "python3",
      "display_name": "Python 3"
    },
    "language_info": {
      "name": "python"
    }
  },
  "cells": [
    {
      "cell_type": "markdown",
      "metadata": {
        "id": "view-in-github",
        "colab_type": "text"
      },
      "source": [
        "<a href=\"https://colab.research.google.com/github/ishrt/Depression_Tweets.ipynb/blob/main/accident_ipynb.ipynb\" target=\"_parent\"><img src=\"https://colab.research.google.com/assets/colab-badge.svg\" alt=\"Open In Colab\"/></a>"
      ]
    },
    {
      "cell_type": "code",
      "execution_count": null,
      "metadata": {
        "id": "DZ4bosuzIAOq"
      },
      "outputs": [],
      "source": []
    },
    {
      "cell_type": "code",
      "source": [
        "from google.colab import drive\n",
        "drive.mount('/content/drive')"
      ],
      "metadata": {
        "colab": {
          "base_uri": "https://localhost:8080/"
        },
        "id": "8pK8_xZLLxG6",
        "outputId": "35e07e0c-ccf8-4ccf-a385-a06ca5c9aeb4"
      },
      "execution_count": null,
      "outputs": [
        {
          "output_type": "stream",
          "name": "stdout",
          "text": [
            "Drive already mounted at /content/drive; to attempt to forcibly remount, call drive.mount(\"/content/drive\", force_remount=True).\n"
          ]
        }
      ]
    },
    {
      "cell_type": "code",
      "source": [
        "import pandas as pd\n",
        "data = pd.read_csv('/content/drive/MyDrive/us-accident-eda.ipynb')\n",
        "data.head()"
      ],
      "metadata": {
        "colab": {
          "base_uri": "https://localhost:8080/",
          "height": 133
        },
        "id": "fLEkKKQ7NUIT",
        "outputId": "52677586-4e75-4e1d-a363-df86998c5838"
      },
      "execution_count": null,
      "outputs": [
        {
          "output_type": "execute_result",
          "data": {
            "text/plain": [
              "Empty DataFrame\n",
              "Columns: [{\"metadata\":{\"kernelspec\":{\"language\":\"python\", display_name:\"Python 3\", name:\"python3\"}, language_info:{\"name\":\"python\", version:\"3.7.12\", mimetype:\"text/x-python\", codemirror_mode:{\"name\":\"ipython\", version:3}, pygments_lexer:\"ipython3\", nbconvert_exporter:\"python\", file_extension:\".py\"}}, nbformat_minor:4, nbformat:4, cells:[{\"cell_type\":\"code\", source:\"# This Python 3 environment comes with many helpful analytics libraries installed\\n# It is defined by the kaggle/python Docker image: https://github.com/kaggle/docker-python\\n# For example,  here's several helpful packages to load\\n\\nimport numpy as np # linear algebra\\nimport pandas as pd # data processing,  CSV file I/O (e.g. pd.read_csv)\\n\\n# Input data files are available in the read-only \\\"../input/\\\" directory\\n# For example,  running this (by clicking run or pressing Shift+Enter) will list all files under the input directory\\n\\nimport os\\nfor dirname,  _,  filenames in os.walk('/kaggle/input'):\\n    for filename in filenames:\\n        print(os.path.join(dirname,  filename))\\n\\n# You can write up to 20GB to the current directory (/kaggle/working/) that gets preserved as output when you create a version using \\\"Save & Run All\\\" \\n# You can also write temporary files to /kaggle/temp/,  but they won't be saved outside of the current session\", metadata:{\"_uuid\":\"8f2839f25d086af736a60e9eeb907d3b93b6e0e5\", _cell_guid:\"b1076dfc-b9ad-4769-8c92-a6c4dae69d19\", execution:{\"iopub.status.busy\":\"2022-06-04T21:20:04.757065Z\", iopub.execute_input:\"2022-06-04T21:20:04.757519Z\", iopub.status.idle:\"2022-06-04T21:20:04.777830Z\", shell.execute_reply.started:\"2022-06-04T21:20:04.757473Z\", shell.execute_reply:\"2022-06-04T21:20:04.776487Z\"}, trusted:true}, execution_count:267, outputs:[{\"name\":\"stdout\", text:\"/kaggle/input/us-accidents/US_Accidents_Dec21_updated.csv\\n\", output_type:\"stream\"}]}, {\"cell_type\":\"markdown\", source:\"# 1 -> import libraries\\n# 2 -> load dataset\\n# 3 -> columns ,  value count \\n# 4 -> categorised the data into cat ,  num ,  bool ,  int \\n# 5 -> \", metadata:{}}, {\"cell_type\":\"code\", source:\"import pandas as pd\\nimport numpy as np\\nimport seaborn as sns\\nimport matplotlib.pyplot as plt\", metadata:{\"execution\":{\"iopub.status.busy\":\"2022-06-04T21:20:04.779679Z\", iopub.execute_input:\"2022-06-04T21:20:04.780440Z\", iopub.status.idle:\"2022-06-04T21:20:04.790858Z\", shell.execute_reply.started:\"2022-06-04T21:20:04.780403Z\", shell.execute_reply:\"2022-06-04T21:20:04.789382Z\"}, trusted:true}.1, execution_count:268, outputs:[]}, {\"cell_type\":\"code\".1, source:\"df_USA=pd.read_csv('/kaggle/input/us-accidents/US_Accidents_Dec21_updated.csv')\", metadata:{\"execution\":{\"iopub.status.busy\":\"2022-06-04T21:20:04.792315Z\", iopub.execute_input:\"2022-06-04T21:20:04.792932Z\", iopub.status.idle:\"2022-06-04T21:20:34.104669Z\", shell.execute_reply.started:\"2022-06-04T21:20:04.792898Z\", shell.execute_reply:\"2022-06-04T21:20:34.097491Z\"}, trusted:true}.2, execution_count:269, outputs:[]}.1, {\"cell_type\":\"code\".2, source:\"df_USA.head()\", metadata:{\"execution\":{\"iopub.status.busy\":\"2022-06-04T21:20:34.111708Z\", iopub.execute_input:\"2022-06-04T21:20:34.112720Z\", iopub.status.idle:\"2022-06-04T21:20:34.159629Z\", shell.execute_reply.started:\"2022-06-04T21:20:34.112676Z\", shell.execute_reply:\"2022-06-04T21:20:34.158932Z\"}, trusted:true}.3, execution_count:270, outputs:[{\"execution_count\":270, output_type:\"execute_result\", data:{\"text/plain\":\"    ID  Severity           Start_Time             End_Time  Start_Lat  \\\\\\n0  A-1         3  2016-02-08 00:37:08  2016-02-08 06:37:08  40.108910   \\n1  A-2         2  2016-02-08 05:56:20  2016-02-08 11:56:20  39.865420   \\n2  A-3         2  2016-02-08 06:15:39  2016-02-08 12:15:39  39.102660   \\n3  A-4         2  2016-02-08 06:51:45  2016-02-08 12:51:45  41.062130   \\n4  A-5         3  2016-02-08 07:53:43  2016-02-08 13:53:43  39.172393   \\n\\n   Start_Lng    End_Lat    End_Lng  Distance(mi)  \\\\\\n0 -83.092860  40.112060 -83.031870         3.230   \\n1 -84.062800  39.865010 -84.048730         0.747   \\n2 -84.524680  39.102090 -84.523960         0.055   \\n3 -81.537840  41.062170 -81.535470         0.123   \\n4 -84.492792  39.170476 -84.501798         0.500   \\n\\n                                         Description  ...  Roundabout Station  \\\\\\n0  Between Sawmill Rd/Exit 20 and OH-315/Olentang...  ...       False   False   \\n1                 At OH-4/OH-235/Exit 41 - Accident.  ...       False   False   \\n2                   At I-71/US-50/Exit 1 - Accident.  ...       False   False   \\n3                    At Dart Ave/Exit 21 - Accident.  ...       False   False   \\n4                 At Mitchell Ave/Exit 6 - Accident.  ...       False   False   \\n\\n    Stop Traffic_Calming Traffic_Signal Turning_Loop Sunrise_Sunset  \\\\\\n0  False           False          False        False          Night   \\n1  False           False          False        False          Night   \\n2  False           False          False        False          Night   \\n3  False           False          False        False          Night   \\n4  False           False          False        False            Day   \\n\\n  Civil_Twilight Nautical_Twilight Astronomical_Twilight  \\n0          Night             Night                 Night  \\n1          Night             Night                 Night  \\n2          Night             Night                   Day  \\n3          Night               Day                   Day  \\n4            Day               Day                   Day  \\n\\n[5 rows x 47 columns]\", text/html:\"<div>\\n<style scoped>\\n    .dataframe tbody tr th:only-of-type {\\n        vertical-align: middle;\\n    }\\n\\n    .dataframe tbody tr th {\\n        vertical-align: top;\\n    }\\n\\n    .dataframe thead th {\\n        text-align: right;\\n    }\\n</style>\\n<table border=\\\"1\\\" class=\\\"dataframe\\\">\\n  <thead>\\n    <tr style=\\\"text-align: right;\\\">\\n      <th></th>\\n      <th>ID</th>\\n      <th>Severity</th>\\n      <th>Start_Time</th>\\n      <th>End_Time</th>\\n      <th>Start_Lat</th>\\n      <th>Start_Lng</th>\\n      <th>End_Lat</th>\\n      <th>End_Lng</th>\\n      <th>Distance(mi)</th>\\n      <th>Description</th>\\n      <th>...</th>\\n      <th>Roundabout</th>\\n      <th>Station</th>\\n      <th>Stop</th>\\n      <th>Traffic_Calming</th>\\n      <th>Traffic_Signal</th>\\n      <th>Turning_Loop</th>\\n      <th>Sunrise_Sunset</th>\\n      <th>Civil_Twilight</th>\\n      <th>Nautical_Twilight</th>\\n      <th>Astronomical_Twilight</th>\\n    </tr>\\n  </thead>\\n  <tbody>\\n    <tr>\\n      <th>0</th>\\n      <td>A-1</td>\\n      <td>3</td>\\n      <td>2016-02-08 00:37:08</td>\\n      <td>2016-02-08 06:37:08</td>\\n      <td>40.108910</td>\\n      <td>-83.092860</td>\\n      <td>40.112060</td>\\n      <td>-83.031870</td>\\n      <td>3.230</td>\\n      <td>Between Sawmill Rd/Exit 20 and OH-315/Olentang...</td>\\n      <td>...</td>\\n      <td>False</td>\\n      <td>False</td>\\n      <td>False</td>\\n      <td>False</td>\\n      <td>False</td>\\n      <td>False</td>\\n      <td>Night</td>\\n      <td>Night</td>\\n      <td>Night</td>\\n      <td>Night</td>\\n    </tr>\\n    <tr>\\n      <th>1</th>\\n      <td>A-2</td>\\n      <td>2</td>\\n      <td>2016-02-08 05:56:20</td>\\n      <td>2016-02-08 11:56:20</td>\\n      <td>39.865420</td>\\n      <td>-84.062800</td>\\n      <td>39.865010</td>\\n      <td>-84.048730</td>\\n      <td>0.747</td>\\n      <td>At OH-4/OH-235/Exit 41 - Accident.</td>\\n      <td>...</td>\\n      <td>False</td>\\n      <td>False</td>\\n      <td>False</td>\\n      <td>False</td>\\n      <td>False</td>\\n      <td>False</td>\\n      <td>Night</td>\\n      <td>Night</td>\\n      <td>Night</td>\\n      <td>Night</td>\\n    </tr>\\n    <tr>\\n      <th>2</th>\\n      <td>A-3</td>\\n      <td>2</td>\\n      <td>2016-02-08 06:15:39</td>\\n      <td>2016-02-08 12:15:39</td>\\n      <td>39.102660</td>\\n      <td>-84.524680</td>\\n      <td>39.102090</td>\\n      <td>-84.523960</td>\\n      <td>0.055</td>\\n      <td>At I-71/US-50/Exit 1 - Accident.</td>\\n      <td>...</td>\\n      <td>False</td>\\n      <td>False</td>\\n      <td>False</td>\\n      <td>False</td>\\n      <td>False</td>\\n      <td>False</td>\\n      <td>Night</td>\\n      <td>Night</td>\\n      <td>Night</td>\\n      <td>Day</td>\\n    </tr>\\n    <tr>\\n      <th>3</th>\\n      <td>A-4</td>\\n      <td>2</td>\\n      <td>2016-02-08 06:51:45</td>\\n      <td>2016-02-08 12:51:45</td>\\n      <td>41.062130</td>\\n      <td>-81.537840</td>\\n      <td>41.062170</td>\\n      <td>-81.535470</td>\\n      <td>0.123</td>\\n      <td>At Dart Ave/Exit 21 - Accident.</td>\\n      <td>...</td>\\n      <td>False</td>\\n      <td>False</td>\\n      <td>False</td>\\n      <td>False</td>\\n      <td>False</td>\\n      <td>False</td>\\n      <td>Night</td>\\n      <td>Night</td>\\n      <td>Day</td>\\n      <td>Day</td>\\n    </tr>\\n    <tr>\\n      <th>4</th>\\n      <td>A-5</td>\\n      <td>3</td>\\n      <td>2016-02-08 07:53:43</td>\\n      <td>2016-02-08 13:53:43</td>\\n      <td>39.172393</td>\\n      <td>-84.492792</td>\\n      <td>39.170476</td>\\n      <td>-84.501798</td>\\n      <td>0.500</td>\\n      <td>At Mitchell Ave/Exit 6 - Accident.</td>\\n      <td>...</td>\\n      <td>False</td>\\n      <td>False</td>\\n      <td>False</td>\\n      <td>False</td>\\n      <td>False</td>\\n      <td>False</td>\\n      <td>Day</td>\\n      <td>Day</td>\\n      <td>Day</td>\\n      <td>Day</td>\\n    </tr>\\n  </tbody>\\n</table>\\n<p>5 rows × 47 columns</p>\\n</div>\"}, metadata:{}}]}, {\"cell_type\":\"code\".3, source:\"df_USA.columns\", metadata:{\"execution\":{\"iopub.status.busy\":\"2022-06-04T21:20:34.163771Z\", iopub.execute_input:\"2022-06-04T21:20:34.164430Z\", iopub.status.idle:\"2022-06-04T21:20:34.172667Z\", shell.execute_reply.started:\"2022-06-04T21:20:34.164397Z\", shell.execute_reply:\"2022-06-04T21:20:34.171684Z\"}, trusted:true}.4, execution_count:271, outputs:[{\"execution_count\":271, output_type:\"execute_result\".1, data:{\"text/plain\":\"Index(['ID',  'Severity',  'Start_Time',  'End_Time',  'Start_Lat',  'Start_Lng', \\n       'End_Lat',  'End_Lng',  'Distance(mi)',  'Description',  'Number',  'Street', \\n       'Side',  'City', ...]\n",
              "Index: []\n",
              "\n",
              "[0 rows x 1131 columns]"
            ],
            "text/html": [
              "\n",
              "  <div id=\"df-ed1259a4-be6b-41e5-a708-cb6e52df0f91\" class=\"colab-df-container\">\n",
              "    <div>\n",
              "<style scoped>\n",
              "    .dataframe tbody tr th:only-of-type {\n",
              "        vertical-align: middle;\n",
              "    }\n",
              "\n",
              "    .dataframe tbody tr th {\n",
              "        vertical-align: top;\n",
              "    }\n",
              "\n",
              "    .dataframe thead th {\n",
              "        text-align: right;\n",
              "    }\n",
              "</style>\n",
              "<table border=\"1\" class=\"dataframe\">\n",
              "  <thead>\n",
              "    <tr style=\"text-align: right;\">\n",
              "      <th></th>\n",
              "      <th>{\"metadata\":{\"kernelspec\":{\"language\":\"python\"</th>\n",
              "      <th>display_name:\"Python 3\"</th>\n",
              "      <th>name:\"python3\"}</th>\n",
              "      <th>language_info:{\"name\":\"python\"</th>\n",
              "      <th>version:\"3.7.12\"</th>\n",
              "      <th>mimetype:\"text/x-python\"</th>\n",
              "      <th>codemirror_mode:{\"name\":\"ipython\"</th>\n",
              "      <th>version:3}</th>\n",
              "      <th>pygments_lexer:\"ipython3\"</th>\n",
              "      <th>nbconvert_exporter:\"python\"</th>\n",
              "      <th>...</th>\n",
              "      <th>{\"cell_type\":\"code\".71</th>\n",
              "      <th>source:\"\".2</th>\n",
              "      <th>metadata:{\"trusted\":true}.1</th>\n",
              "      <th>execution_count:null.8</th>\n",
              "      <th>outputs:[]}.28</th>\n",
              "      <th>{\"cell_type\":\"code\".72</th>\n",
              "      <th>source:\"\".3</th>\n",
              "      <th>metadata:{}</th>\n",
              "      <th>execution_count:null.9</th>\n",
              "      <th>outputs:[]}]}</th>\n",
              "    </tr>\n",
              "  </thead>\n",
              "  <tbody>\n",
              "  </tbody>\n",
              "</table>\n",
              "<p>0 rows × 1131 columns</p>\n",
              "</div>\n",
              "    <div class=\"colab-df-buttons\">\n",
              "\n",
              "  <div class=\"colab-df-container\">\n",
              "    <button class=\"colab-df-convert\" onclick=\"convertToInteractive('df-ed1259a4-be6b-41e5-a708-cb6e52df0f91')\"\n",
              "            title=\"Convert this dataframe to an interactive table.\"\n",
              "            style=\"display:none;\">\n",
              "\n",
              "  <svg xmlns=\"http://www.w3.org/2000/svg\" height=\"24px\" viewBox=\"0 -960 960 960\">\n",
              "    <path d=\"M120-120v-720h720v720H120Zm60-500h600v-160H180v160Zm220 220h160v-160H400v160Zm0 220h160v-160H400v160ZM180-400h160v-160H180v160Zm440 0h160v-160H620v160ZM180-180h160v-160H180v160Zm440 0h160v-160H620v160Z\"/>\n",
              "  </svg>\n",
              "    </button>\n",
              "\n",
              "  <style>\n",
              "    .colab-df-container {\n",
              "      display:flex;\n",
              "      gap: 12px;\n",
              "    }\n",
              "\n",
              "    .colab-df-convert {\n",
              "      background-color: #E8F0FE;\n",
              "      border: none;\n",
              "      border-radius: 50%;\n",
              "      cursor: pointer;\n",
              "      display: none;\n",
              "      fill: #1967D2;\n",
              "      height: 32px;\n",
              "      padding: 0 0 0 0;\n",
              "      width: 32px;\n",
              "    }\n",
              "\n",
              "    .colab-df-convert:hover {\n",
              "      background-color: #E2EBFA;\n",
              "      box-shadow: 0px 1px 2px rgba(60, 64, 67, 0.3), 0px 1px 3px 1px rgba(60, 64, 67, 0.15);\n",
              "      fill: #174EA6;\n",
              "    }\n",
              "\n",
              "    .colab-df-buttons div {\n",
              "      margin-bottom: 4px;\n",
              "    }\n",
              "\n",
              "    [theme=dark] .colab-df-convert {\n",
              "      background-color: #3B4455;\n",
              "      fill: #D2E3FC;\n",
              "    }\n",
              "\n",
              "    [theme=dark] .colab-df-convert:hover {\n",
              "      background-color: #434B5C;\n",
              "      box-shadow: 0px 1px 3px 1px rgba(0, 0, 0, 0.15);\n",
              "      filter: drop-shadow(0px 1px 2px rgba(0, 0, 0, 0.3));\n",
              "      fill: #FFFFFF;\n",
              "    }\n",
              "  </style>\n",
              "\n",
              "    <script>\n",
              "      const buttonEl =\n",
              "        document.querySelector('#df-ed1259a4-be6b-41e5-a708-cb6e52df0f91 button.colab-df-convert');\n",
              "      buttonEl.style.display =\n",
              "        google.colab.kernel.accessAllowed ? 'block' : 'none';\n",
              "\n",
              "      async function convertToInteractive(key) {\n",
              "        const element = document.querySelector('#df-ed1259a4-be6b-41e5-a708-cb6e52df0f91');\n",
              "        const dataTable =\n",
              "          await google.colab.kernel.invokeFunction('convertToInteractive',\n",
              "                                                    [key], {});\n",
              "        if (!dataTable) return;\n",
              "\n",
              "        const docLinkHtml = 'Like what you see? Visit the ' +\n",
              "          '<a target=\"_blank\" href=https://colab.research.google.com/notebooks/data_table.ipynb>data table notebook</a>'\n",
              "          + ' to learn more about interactive tables.';\n",
              "        element.innerHTML = '';\n",
              "        dataTable['output_type'] = 'display_data';\n",
              "        await google.colab.output.renderOutput(dataTable, element);\n",
              "        const docLink = document.createElement('div');\n",
              "        docLink.innerHTML = docLinkHtml;\n",
              "        element.appendChild(docLink);\n",
              "      }\n",
              "    </script>\n",
              "  </div>\n",
              "\n",
              "\n",
              "    </div>\n",
              "  </div>\n"
            ],
            "application/vnd.google.colaboratory.intrinsic+json": {
              "type": "dataframe",
              "variable_name": "data"
            }
          },
          "metadata": {},
          "execution_count": 4
        }
      ]
    }
  ]
}